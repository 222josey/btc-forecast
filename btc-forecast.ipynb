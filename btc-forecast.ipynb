{
 "cells": [
  {
   "cell_type": "markdown",
   "id": "49bccdbb",
   "metadata": {},
   "source": [
    "# BTC Market Forecasting\n",
    "\n",
    "Authored by:\n",
    "- Aqeel Somani\n",
    "- Jose Hernandez\n",
    "- Alejandra Sanchez\n",
    "- Jolie Blake"
   ]
  },
  {
   "cell_type": "markdown",
   "id": "8828a78b",
   "metadata": {},
   "source": [
    "# EDA"
   ]
  },
  {
   "cell_type": "code",
   "execution_count": 11,
   "id": "427b1453",
   "metadata": {},
   "outputs": [],
   "source": [
    "import pandas as pd"
   ]
  },
  {
   "cell_type": "code",
   "execution_count": 12,
   "id": "88486897",
   "metadata": {},
   "outputs": [
    {
     "data": {
      "application/vnd.microsoft.datawrangler.viewer.v0+json": {
       "columns": [
        {
         "name": "index",
         "rawType": "int64",
         "type": "integer"
        },
        {
         "name": "unix",
         "rawType": "int64",
         "type": "integer"
        },
        {
         "name": "date",
         "rawType": "datetime64[ns]",
         "type": "datetime"
        },
        {
         "name": "symbol",
         "rawType": "object",
         "type": "string"
        },
        {
         "name": "open",
         "rawType": "float64",
         "type": "float"
        },
        {
         "name": "high",
         "rawType": "float64",
         "type": "float"
        },
        {
         "name": "low",
         "rawType": "float64",
         "type": "float"
        },
        {
         "name": "close",
         "rawType": "float64",
         "type": "float"
        },
        {
         "name": "Volume BTC",
         "rawType": "float64",
         "type": "float"
        },
        {
         "name": "Volume USD",
         "rawType": "float64",
         "type": "float"
        }
       ],
       "ref": "e9b397b6-880e-4ae4-826b-7337fe79a79c",
       "rows": [
        [
         "0",
         "1758672000",
         "2025-09-24 00:00:00",
         "BTC/USD",
         "112025.0",
         "112059.0",
         "111969.0",
         "111970.0",
         "1.8780096",
         "210280.734912"
        ],
        [
         "1",
         "1758585600",
         "2025-09-23 00:00:00",
         "BTC/USD",
         "112741.0",
         "113344.0",
         "111463.0",
         "112025.0",
         "1468.03878727",
         "164457045.14392176"
        ],
        [
         "2",
         "1758499200",
         "2025-09-22 00:00:00",
         "BTC/USD",
         "115275.0",
         "115435.0",
         "111986.0",
         "112741.0",
         "1951.76217647",
         "220043619.53740427"
        ],
        [
         "3",
         "1758412800",
         "2025-09-21 00:00:00",
         "BTC/USD",
         "115758.0",
         "115901.0",
         "115258.0",
         "115292.0",
         "789.19772796",
         "90988184.45196432"
        ],
        [
         "4",
         "1758326400",
         "2025-09-20 00:00:00",
         "BTC/USD",
         "115703.0",
         "116197.0",
         "115479.0",
         "115759.0",
         "1111.98890244",
         "128722723.35755196"
        ]
       ],
       "shape": {
        "columns": 9,
        "rows": 5
       }
      },
      "text/html": [
       "<div>\n",
       "<style scoped>\n",
       "    .dataframe tbody tr th:only-of-type {\n",
       "        vertical-align: middle;\n",
       "    }\n",
       "\n",
       "    .dataframe tbody tr th {\n",
       "        vertical-align: top;\n",
       "    }\n",
       "\n",
       "    .dataframe thead th {\n",
       "        text-align: right;\n",
       "    }\n",
       "</style>\n",
       "<table border=\"1\" class=\"dataframe\">\n",
       "  <thead>\n",
       "    <tr style=\"text-align: right;\">\n",
       "      <th></th>\n",
       "      <th>unix</th>\n",
       "      <th>date</th>\n",
       "      <th>symbol</th>\n",
       "      <th>open</th>\n",
       "      <th>high</th>\n",
       "      <th>low</th>\n",
       "      <th>close</th>\n",
       "      <th>Volume BTC</th>\n",
       "      <th>Volume USD</th>\n",
       "    </tr>\n",
       "  </thead>\n",
       "  <tbody>\n",
       "    <tr>\n",
       "      <th>0</th>\n",
       "      <td>1758672000</td>\n",
       "      <td>2025-09-24</td>\n",
       "      <td>BTC/USD</td>\n",
       "      <td>112025.0</td>\n",
       "      <td>112059.0</td>\n",
       "      <td>111969.0</td>\n",
       "      <td>111970.0</td>\n",
       "      <td>1.878010</td>\n",
       "      <td>2.102807e+05</td>\n",
       "    </tr>\n",
       "    <tr>\n",
       "      <th>1</th>\n",
       "      <td>1758585600</td>\n",
       "      <td>2025-09-23</td>\n",
       "      <td>BTC/USD</td>\n",
       "      <td>112741.0</td>\n",
       "      <td>113344.0</td>\n",
       "      <td>111463.0</td>\n",
       "      <td>112025.0</td>\n",
       "      <td>1468.038787</td>\n",
       "      <td>1.644570e+08</td>\n",
       "    </tr>\n",
       "    <tr>\n",
       "      <th>2</th>\n",
       "      <td>1758499200</td>\n",
       "      <td>2025-09-22</td>\n",
       "      <td>BTC/USD</td>\n",
       "      <td>115275.0</td>\n",
       "      <td>115435.0</td>\n",
       "      <td>111986.0</td>\n",
       "      <td>112741.0</td>\n",
       "      <td>1951.762176</td>\n",
       "      <td>2.200436e+08</td>\n",
       "    </tr>\n",
       "    <tr>\n",
       "      <th>3</th>\n",
       "      <td>1758412800</td>\n",
       "      <td>2025-09-21</td>\n",
       "      <td>BTC/USD</td>\n",
       "      <td>115758.0</td>\n",
       "      <td>115901.0</td>\n",
       "      <td>115258.0</td>\n",
       "      <td>115292.0</td>\n",
       "      <td>789.197728</td>\n",
       "      <td>9.098818e+07</td>\n",
       "    </tr>\n",
       "    <tr>\n",
       "      <th>4</th>\n",
       "      <td>1758326400</td>\n",
       "      <td>2025-09-20</td>\n",
       "      <td>BTC/USD</td>\n",
       "      <td>115703.0</td>\n",
       "      <td>116197.0</td>\n",
       "      <td>115479.0</td>\n",
       "      <td>115759.0</td>\n",
       "      <td>1111.988902</td>\n",
       "      <td>1.287227e+08</td>\n",
       "    </tr>\n",
       "  </tbody>\n",
       "</table>\n",
       "</div>"
      ],
      "text/plain": [
       "         unix       date   symbol      open      high       low     close  \\\n",
       "0  1758672000 2025-09-24  BTC/USD  112025.0  112059.0  111969.0  111970.0   \n",
       "1  1758585600 2025-09-23  BTC/USD  112741.0  113344.0  111463.0  112025.0   \n",
       "2  1758499200 2025-09-22  BTC/USD  115275.0  115435.0  111986.0  112741.0   \n",
       "3  1758412800 2025-09-21  BTC/USD  115758.0  115901.0  115258.0  115292.0   \n",
       "4  1758326400 2025-09-20  BTC/USD  115703.0  116197.0  115479.0  115759.0   \n",
       "\n",
       "    Volume BTC    Volume USD  \n",
       "0     1.878010  2.102807e+05  \n",
       "1  1468.038787  1.644570e+08  \n",
       "2  1951.762176  2.200436e+08  \n",
       "3   789.197728  9.098818e+07  \n",
       "4  1111.988902  1.287227e+08  "
      ]
     },
     "execution_count": 12,
     "metadata": {},
     "output_type": "execute_result"
    }
   ],
   "source": [
    "df = pd.read_csv('Bitstamp_BTCUSD_d.csv', skiprows=1)\n",
    "df['date'] = pd.to_datetime(df['date'])\n",
    "df.head()"
   ]
  }
 ],
 "metadata": {
  "kernelspec": {
   "display_name": "Python 3",
   "language": "python",
   "name": "python3"
  },
  "language_info": {
   "codemirror_mode": {
    "name": "ipython",
    "version": 3
   },
   "file_extension": ".py",
   "mimetype": "text/x-python",
   "name": "python",
   "nbconvert_exporter": "python",
   "pygments_lexer": "ipython3",
   "version": "3.13.3"
  }
 },
 "nbformat": 4,
 "nbformat_minor": 5
}
